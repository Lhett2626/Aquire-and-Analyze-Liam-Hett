{
 "cells": [
  {
   "cell_type": "markdown",
   "metadata": {},
   "source": [
    "Url I got the below info from https://www.yelp.com/developers/v3/manage_app?app_created=True"
   ]
  },
  {
   "cell_type": "markdown",
   "metadata": {},
   "source": [
    "With just API Keys the process to authenticate is:\n",
    "\n",
    "Get your API Key from the Manage App page.\n",
    "Put the API Key in the request header as \"Authorization: Bearer <YOUR API KEY>\"."
   ]
  },
  {
   "cell_type": "code",
   "execution_count": 1,
   "metadata": {},
   "outputs": [],
   "source": [
    "api_key= 'Y3L0TV0Zd2cMB01-3dTR5ZXnRnvb0-O34qWtelQLvUOdOVvfBQcvhUzWnycGt0aBq_9llOIwOxyv_JKnJMrH0LYvQ2gRquleAeyAvbZCy-EM7DAVzO37xVVDFu-rYXYx'"
   ]
  },
  {
   "cell_type": "code",
   "execution_count": 2,
   "metadata": {},
   "outputs": [],
   "source": [
    "import requests\n",
    "import json\n",
    "import pandas as pd\n",
    "\n",
    "headers = {'Authorization': 'Bearer %s' % api_key}\n",
    "\n",
    "def business_search(location, term):\n",
    "    endpoint_url = \"https://api.yelp.com/v3/businesses/search\"\n",
    "    for offset in range(0, 1000, 50):\n",
    "        params = {\n",
    "        'limit': 50,\n",
    "        'term': term.replace(' ', '+'),  #should be restaurants intially\n",
    "        'location': location.replace(' ', '+'),\n",
    "        'offset': offset\n",
    "        }\n",
    "        if offset == 0:\n",
    "            results = requests.get(endpoint_url, params = params, headers=headers)\n",
    "            loaded_json = json.loads(results.text)\n",
    "            Business_DF = pd.json_normalize(loaded_json['businesses'])\n",
    "            \n",
    "        else:\n",
    "            results = requests.get(endpoint_url, params = params, headers=headers)\n",
    "            loaded_json = json.loads(results.text)\n",
    "            add_Business_DF = pd.json_normalize(loaded_json['businesses'])\n",
    "            Business_DF = Business_DF.append(add_Business_DF)\n",
    "            \n",
    "   \n",
    "    return(Business_DF)\n",
    "\n",
    "def buiness_reviews(yelp_id):\n",
    "    endpoint_url = f\"https://api.yelp.com/v3/businesses/{yelp_id}/reviews\"\n",
    "    results = requests.get(endpoint_url, headers=headers)\n",
    "    loaded_json = json.loads(results.text)\n",
    "    Review_DF = pd.json_normalize(loaded_json['reviews'])\n",
    "    return(Review_DF)"
   ]
  },
  {
   "cell_type": "code",
   "execution_count": 3,
   "metadata": {},
   "outputs": [],
   "source": [
    "Missoula_rest = business_search('Missoula', 'restaurants')"
   ]
  },
  {
   "cell_type": "code",
   "execution_count": 4,
   "metadata": {},
   "outputs": [
    {
     "data": {
      "text/plain": [
       "239"
      ]
     },
     "execution_count": 4,
     "metadata": {},
     "output_type": "execute_result"
    }
   ],
   "source": [
    "len(Missoula_rest)"
   ]
  },
  {
   "cell_type": "code",
   "execution_count": 5,
   "metadata": {},
   "outputs": [
    {
     "data": {
      "text/plain": [
       "Index(['id', 'alias', 'name', 'image_url', 'is_closed', 'url', 'review_count',\n",
       "       'categories', 'rating', 'transactions', 'price', 'phone',\n",
       "       'display_phone', 'distance', 'coordinates.latitude',\n",
       "       'coordinates.longitude', 'location.address1', 'location.address2',\n",
       "       'location.address3', 'location.city', 'location.zip_code',\n",
       "       'location.country', 'location.state', 'location.display_address'],\n",
       "      dtype='object')"
      ]
     },
     "execution_count": 5,
     "metadata": {},
     "output_type": "execute_result"
    }
   ],
   "source": [
    "Missoula_rest.columns"
   ]
  },
  {
   "cell_type": "code",
   "execution_count": 11,
   "metadata": {},
   "outputs": [
    {
     "data": {
      "text/html": [
       "<div>\n",
       "<style scoped>\n",
       "    .dataframe tbody tr th:only-of-type {\n",
       "        vertical-align: middle;\n",
       "    }\n",
       "\n",
       "    .dataframe tbody tr th {\n",
       "        vertical-align: top;\n",
       "    }\n",
       "\n",
       "    .dataframe thead th {\n",
       "        text-align: right;\n",
       "    }\n",
       "</style>\n",
       "<table border=\"1\" class=\"dataframe\">\n",
       "  <thead>\n",
       "    <tr style=\"text-align: right;\">\n",
       "      <th></th>\n",
       "      <th>id</th>\n",
       "      <th>alias</th>\n",
       "      <th>name</th>\n",
       "      <th>image_url</th>\n",
       "      <th>is_closed</th>\n",
       "      <th>url</th>\n",
       "      <th>review_count</th>\n",
       "      <th>categories</th>\n",
       "      <th>rating</th>\n",
       "      <th>transactions</th>\n",
       "      <th>...</th>\n",
       "      <th>coordinates.latitude</th>\n",
       "      <th>coordinates.longitude</th>\n",
       "      <th>location.address1</th>\n",
       "      <th>location.address2</th>\n",
       "      <th>location.address3</th>\n",
       "      <th>location.city</th>\n",
       "      <th>location.zip_code</th>\n",
       "      <th>location.country</th>\n",
       "      <th>location.state</th>\n",
       "      <th>location.display_address</th>\n",
       "    </tr>\n",
       "  </thead>\n",
       "  <tbody>\n",
       "  </tbody>\n",
       "</table>\n",
       "<p>0 rows × 24 columns</p>\n",
       "</div>"
      ],
      "text/plain": [
       "Empty DataFrame\n",
       "Columns: [id, alias, name, image_url, is_closed, url, review_count, categories, rating, transactions, price, phone, display_phone, distance, coordinates.latitude, coordinates.longitude, location.address1, location.address2, location.address3, location.city, location.zip_code, location.country, location.state, location.display_address]\n",
       "Index: []\n",
       "\n",
       "[0 rows x 24 columns]"
      ]
     },
     "execution_count": 11,
     "metadata": {},
     "output_type": "execute_result"
    }
   ],
   "source": [
    "#Missoula_rest[Missoula_rest['is_closed'] != False]"
   ]
  },
  {
   "cell_type": "code",
   "execution_count": null,
   "metadata": {},
   "outputs": [],
   "source": []
  },
  {
   "cell_type": "code",
   "execution_count": 13,
   "metadata": {},
   "outputs": [],
   "source": [
    "Missoula_rest.drop(['alias', 'image_url', 'is_closed', 'display_phone', 'distance', 'categories', 'transactions', 'coordinates.latitude',\n",
    "                    'coordinates.longitude', 'location.address3', 'location.country', 'location.state', \n",
    "                    'location.display_address'], axis=1, inplace=True)"
   ]
  },
  {
   "cell_type": "code",
   "execution_count": 14,
   "metadata": {},
   "outputs": [],
   "source": [
    "Missoula_rest.rename(columns = {'location.zip_code':'Zip_Code', \n",
    "                              'location.city':'City',\n",
    "                              'location.address2': 'Address_2',\n",
    "                              'location.address1' : 'Address'}, inplace = True)"
   ]
  },
  {
   "cell_type": "code",
   "execution_count": 15,
   "metadata": {},
   "outputs": [],
   "source": [
    "Missoula_rest = Missoula_rest.set_index('name')"
   ]
  },
  {
   "cell_type": "code",
   "execution_count": 17,
   "metadata": {},
   "outputs": [],
   "source": [
    "#Missoula_rest.sort_values('rating',  ascending=False)"
   ]
  },
  {
   "cell_type": "code",
   "execution_count": 18,
   "metadata": {},
   "outputs": [],
   "source": [
    "not_missoula = Missoula_rest[Missoula_rest['City'] != 'Missoula'].index\n",
    "Missoula_rest.drop(not_missoula, inplace = True)"
   ]
  },
  {
   "cell_type": "code",
   "execution_count": 22,
   "metadata": {},
   "outputs": [],
   "source": [
    "no_address1 = Missoula_rest[Missoula_rest['Address'].isna()].index\n",
    "Missoula_rest.drop(no_address1, inplace = True)"
   ]
  },
  {
   "cell_type": "code",
   "execution_count": 23,
   "metadata": {},
   "outputs": [],
   "source": [
    "no_address2 = Missoula_rest[Missoula_rest['Address'] == ''].index\n",
    "Missoula_rest.drop(no_address2, inplace = True)"
   ]
  },
  {
   "cell_type": "code",
   "execution_count": 36,
   "metadata": {},
   "outputs": [],
   "source": [
    "Missoula_rest.to_csv('Yelp_Missoula_Restaurants.csv')"
   ]
  },
  {
   "cell_type": "code",
   "execution_count": 25,
   "metadata": {},
   "outputs": [],
   "source": [
    "review_dictionary_yelp = {}\n",
    "for key, value in Missoula_rest.iterrows():\n",
    "    review_dictionary_yelp[key] = buiness_reviews(value['id'])"
   ]
  },
  {
   "cell_type": "code",
   "execution_count": 30,
   "metadata": {},
   "outputs": [],
   "source": [
    "for key in review_dictionary_yelp:\n",
    "    review_dictionary_yelp[key].drop(['id', 'url', 'user.id', 'user.profile_url', 'user.image_url'],\n",
    "                                     axis=1, inplace=True)\n",
    "    review_dictionary_yelp[key].rename(columns = {'user.name':'Name'}, inplace = True)"
   ]
  },
  {
   "cell_type": "code",
   "execution_count": 31,
   "metadata": {},
   "outputs": [
    {
     "data": {
      "text/html": [
       "<div>\n",
       "<style scoped>\n",
       "    .dataframe tbody tr th:only-of-type {\n",
       "        vertical-align: middle;\n",
       "    }\n",
       "\n",
       "    .dataframe tbody tr th {\n",
       "        vertical-align: top;\n",
       "    }\n",
       "\n",
       "    .dataframe thead th {\n",
       "        text-align: right;\n",
       "    }\n",
       "</style>\n",
       "<table border=\"1\" class=\"dataframe\">\n",
       "  <thead>\n",
       "    <tr style=\"text-align: right;\">\n",
       "      <th></th>\n",
       "      <th>text</th>\n",
       "      <th>rating</th>\n",
       "      <th>time_created</th>\n",
       "      <th>Name</th>\n",
       "    </tr>\n",
       "  </thead>\n",
       "  <tbody>\n",
       "    <tr>\n",
       "      <th>0</th>\n",
       "      <td>We had an amazing dining experience here last ...</td>\n",
       "      <td>5</td>\n",
       "      <td>2021-10-28 16:57:18</td>\n",
       "      <td>Ashley H.</td>\n",
       "    </tr>\n",
       "    <tr>\n",
       "      <th>1</th>\n",
       "      <td>Love the ambiance in this restaurant. Nice hig...</td>\n",
       "      <td>5</td>\n",
       "      <td>2021-10-13 18:03:23</td>\n",
       "      <td>Troy M.</td>\n",
       "    </tr>\n",
       "    <tr>\n",
       "      <th>2</th>\n",
       "      <td>This is a much needed addition to the neighbor...</td>\n",
       "      <td>5</td>\n",
       "      <td>2021-09-29 19:14:19</td>\n",
       "      <td>Jocy M.</td>\n",
       "    </tr>\n",
       "  </tbody>\n",
       "</table>\n",
       "</div>"
      ],
      "text/plain": [
       "                                                text  rating  \\\n",
       "0  We had an amazing dining experience here last ...       5   \n",
       "1  Love the ambiance in this restaurant. Nice hig...       5   \n",
       "2  This is a much needed addition to the neighbor...       5   \n",
       "\n",
       "          time_created       Name  \n",
       "0  2021-10-28 16:57:18  Ashley H.  \n",
       "1  2021-10-13 18:03:23    Troy M.  \n",
       "2  2021-09-29 19:14:19    Jocy M.  "
      ]
     },
     "execution_count": 31,
     "metadata": {},
     "output_type": "execute_result"
    }
   ],
   "source": [
    "review_dictionary_yelp['Boxcar Bistro']"
   ]
  },
  {
   "cell_type": "code",
   "execution_count": null,
   "metadata": {},
   "outputs": [],
   "source": []
  },
  {
   "cell_type": "code",
   "execution_count": 35,
   "metadata": {},
   "outputs": [],
   "source": [
    "for key in review_dictionary_yelp: \n",
    "    review_dictionary_yelp[key].to_csv('Yelp_Reviews/' + str(key) + '_Yelp_reviews.csv')"
   ]
  },
  {
   "cell_type": "code",
   "execution_count": 37,
   "metadata": {},
   "outputs": [
    {
     "data": {
      "text/plain": [
       "208"
      ]
     },
     "execution_count": 37,
     "metadata": {},
     "output_type": "execute_result"
    }
   ],
   "source": [
    "len(Missoula_rest)"
   ]
  },
  {
   "cell_type": "code",
   "execution_count": null,
   "metadata": {},
   "outputs": [],
   "source": []
  }
 ],
 "metadata": {
  "kernelspec": {
   "display_name": "Python 3",
   "language": "python",
   "name": "python3"
  },
  "language_info": {
   "codemirror_mode": {
    "name": "ipython",
    "version": 3
   },
   "file_extension": ".py",
   "mimetype": "text/x-python",
   "name": "python",
   "nbconvert_exporter": "python",
   "pygments_lexer": "ipython3",
   "version": "3.8.5"
  }
 },
 "nbformat": 4,
 "nbformat_minor": 4
}
